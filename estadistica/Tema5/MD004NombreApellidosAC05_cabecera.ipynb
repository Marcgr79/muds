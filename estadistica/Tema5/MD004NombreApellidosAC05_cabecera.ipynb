{
 "cells": [
  {
   "cell_type": "markdown",
   "id": "1d304ea6",
   "metadata": {},
   "source": [
    "# MD004 ENTREGA5 ANOVA\n",
    "\n",
    "### <font color='#3d59c6'> PARTE I </font>\n",
    "\n",
    "Imagina que te llega un conjunto de datos que contiene tres variables categóricas>> A,B y C (con 2 categorías cada una). ¿Podrías plantear una estrategia que recoja los 3 factores realizando un Two-Way ANOVA? ¿y un One-Way ANOVA? ¿Qué consideraciones tendrías en cuenta al diseñar estos análisis? (2pt)\n",
    "\n",
    "\n",
    "### <font color='#3d59c6'> PARTE II </font>\n",
    "\n",
    "Se dispone del siguiente dataset que contiene en formato csv registros de diferentes deportistas y donde se recoge el valor de las siguientes variables teniendo como factores deporte y género:\n",
    "\n",
    "- rcc: glóbulos rojos\n",
    "- wcc: células blancas en la sangre\n",
    "- hc: hematocritos(%)\n",
    "- hg: concentración de hemoglobina, en gr por decalitro\n",
    "- bmi: indice masa corporal\n",
    "- sex: 2 categorías >> f m\n",
    "- sport: 9 categorías >> B_Ball Netball Row Swim T_400m T_Sprnt Tennis W_Polo\n",
    "\n",
    "\n",
    "###### Data: \n",
    "202401_ais.csv\n",
    "\n",
    "(selección de >> origen:https://vincentarelbundock.github.io/Rdatasets/doc/DAAG/ais.html)\n",
    "\n",
    "###### Se pide:\n",
    "\n",
    "1. Visualización y comprensión del dataset (2p): Se pide visualizar y realizar estadísticos que ayuden a comprender mejor el dataset dentro del dominio de ANOVA: Análisis descriptivo de las variables continuas y de nuestros factores y análisis de correlaciones\n",
    "2. Calcular la prueba ANOVA One-Way para la variable sport respecto 2 variables continuas (escoged). Interpretar resultados y acompañar con los gráficos vistos en clase (3p)\n",
    "3. Calcular la prueba ANOVA Two-Way con ambos factores respecto 2 variables continuas (diferentes a las anteriores): comentad todo lo que observeis, ¿es sport significativa?¿y sex? ¿y conjuntamente? (3p)\n",
    "\n",
    ";) Recuerda realizar un apartado de conclusiones que recoja las principales observaciones a lo largo del ejercicio\n",
    "\n",
    "<br> \n",
    "<div>\n",
    "<img src=\"attachment:image-3.png\" width=\"500\"/>\n",
    "</div>\n",
    "\n"
   ]
  },
  {
   "cell_type": "markdown",
   "id": "eeddeeb0",
   "metadata": {},
   "source": [
    "## <font color='#3d59c6'>  0. CARGA DE PACKAGES </font>"
   ]
  },
  {
   "cell_type": "markdown",
   "id": "b958db7c",
   "metadata": {},
   "source": [
    "- **tidyverse:** esta librería nos será útil en todo el proceso del análisis descriptivo así como también, a la hora de manipular los datos. Engloba varias librerías como por ejemplo ggplot2 y dplyr (usados en la sesión anterior)\n",
    "- **gridExtra:** con esta librería podremos organizar y personalizar nuestros gráficos, así como mapear varios gráficos en una única área\n",
    "- **ggplot2**: la usamos para crear gráficos más personalizables o dico de otra maenra, podremos crear visualizaciones complejas.\n",
    "- **GGally**: es una extensión de ggplot2 con funciones adicionales para crear matrices de gráficos, lo que facilita la exploración de relaciones entre múltiples variables."
   ]
  },
  {
   "cell_type": "code",
   "execution_count": null,
   "id": "ce58c3d0",
   "metadata": {
    "vscode": {
     "languageId": "r"
    }
   },
   "outputs": [],
   "source": [
    "library(tidyverse)\n",
    "library(ggplot2)\n",
    "library(GGally)\n",
    "library(gridExtra)"
   ]
  },
  {
   "cell_type": "markdown",
   "id": "ca264b46",
   "metadata": {},
   "source": [
    "## <font color='#3d59c6'>  1. CARGA DE DATOS </font>"
   ]
  },
  {
   "cell_type": "code",
   "execution_count": null,
   "id": "590ceeeb",
   "metadata": {
    "vscode": {
     "languageId": "r"
    }
   },
   "outputs": [],
   "source": [
    "data_ais = read.csv(file='202311_04_ais.csv', header=TRUE, sep=';', dec='.')"
   ]
  }
 ],
 "metadata": {
  "kernelspec": {
   "display_name": "R",
   "language": "R",
   "name": "ir"
  },
  "language_info": {
   "codemirror_mode": "r",
   "file_extension": ".r",
   "mimetype": "text/x-r-source",
   "name": "R",
   "pygments_lexer": "r",
   "version": "4.1.1"
  }
 },
 "nbformat": 4,
 "nbformat_minor": 5
}
